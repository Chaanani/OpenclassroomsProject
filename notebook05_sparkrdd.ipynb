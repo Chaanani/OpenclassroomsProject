{
 "cells": [
  {
   "cell_type": "code",
   "execution_count": 7,
   "metadata": {},
   "outputs": [],
   "source": [
    "import numpy as np"
   ]
  },
  {
   "cell_type": "code",
   "execution_count": null,
   "metadata": {},
   "outputs": [],
   "source": [
    "pip install pyspark"
   ]
  },
  {
   "cell_type": "code",
   "execution_count": 6,
   "metadata": {
    "ExecuteTime": {
     "end_time": "2022-01-26T09:48:52.492489Z",
     "start_time": "2022-01-26T09:48:47.745746Z"
    },
    "scrolled": false
   },
   "outputs": [
    {
     "ename": "ModuleNotFoundError",
     "evalue": "No module named 'pyspark'",
     "output_type": "error",
     "traceback": [
      "\u001b[1;31m---------------------------------------------------------------------------\u001b[0m",
      "\u001b[1;31mModuleNotFoundError\u001b[0m                       Traceback (most recent call last)",
      "\u001b[1;32m~\\AppData\\Local\\Temp\\ipykernel_2136\\4031476840.py\u001b[0m in \u001b[0;36m<module>\u001b[1;34m\u001b[0m\n\u001b[1;32m----> 1\u001b[1;33m \u001b[1;32mfrom\u001b[0m \u001b[0mpyspark\u001b[0m \u001b[1;32mimport\u001b[0m \u001b[0mSparkConf\u001b[0m\u001b[1;33m,\u001b[0m \u001b[0mSparkContext\u001b[0m\u001b[1;33m\u001b[0m\u001b[1;33m\u001b[0m\u001b[0m\n\u001b[0m\u001b[0;32m      2\u001b[0m \u001b[1;33m\u001b[0m\u001b[0m\n\u001b[0;32m      3\u001b[0m \u001b[0mconf\u001b[0m \u001b[1;33m=\u001b[0m \u001b[0mSparkConf\u001b[0m\u001b[1;33m(\u001b[0m\u001b[1;33m)\u001b[0m\u001b[1;33m.\u001b[0m\u001b[0msetAppName\u001b[0m\u001b[1;33m(\u001b[0m\u001b[1;34m\"Spark RDD Course\"\u001b[0m\u001b[1;33m)\u001b[0m\u001b[1;33m\u001b[0m\u001b[1;33m\u001b[0m\u001b[0m\n\u001b[0;32m      4\u001b[0m \u001b[0msc\u001b[0m \u001b[1;33m=\u001b[0m \u001b[0mSparkContext\u001b[0m\u001b[1;33m(\u001b[0m\u001b[0mconf\u001b[0m\u001b[1;33m=\u001b[0m\u001b[0mconf\u001b[0m\u001b[1;33m)\u001b[0m\u001b[1;33m\u001b[0m\u001b[1;33m\u001b[0m\u001b[0m\n",
      "\u001b[1;31mModuleNotFoundError\u001b[0m: No module named 'pyspark'"
     ]
    }
   ],
   "source": [
    "from pyspark import SparkConf, SparkContext\n",
    "\n",
    "conf = SparkConf().setAppName(\"Spark RDD Course\")\n",
    "sc = SparkContext(conf=conf)"
   ]
  },
  {
   "cell_type": "markdown",
   "metadata": {},
   "source": [
    "# Introduction to `Spark` RDD"
   ]
  },
  {
   "cell_type": "code",
   "execution_count": null,
   "metadata": {
    "ExecuteTime": {
     "end_time": "2022-01-26T09:50:15.768694Z",
     "start_time": "2022-01-26T09:50:15.760506Z"
    }
   },
   "outputs": [],
   "source": [
    "rdd = sc.parallelize(range(64))"
   ]
  },
  {
   "cell_type": "markdown",
   "metadata": {},
   "source": [
    "Note that `parallelize` takes an optional argument to choose the number of partitions"
   ]
  },
  {
   "cell_type": "code",
   "execution_count": null,
   "metadata": {
    "ExecuteTime": {
     "end_time": "2022-01-26T09:50:16.584063Z",
     "start_time": "2022-01-26T09:50:16.578637Z"
    }
   },
   "outputs": [],
   "source": [
    "rdd.getNumPartitions()"
   ]
  },
  {
   "cell_type": "code",
   "execution_count": null,
   "metadata": {
    "ExecuteTime": {
     "end_time": "2022-01-26T09:50:17.040781Z",
     "start_time": "2022-01-26T09:50:17.025565Z"
    }
   },
   "outputs": [],
   "source": [
    "rdd = sc.parallelize(range(1000), 10)\n",
    "rdd.getNumPartitions()"
   ]
  },
  {
   "cell_type": "markdown",
   "metadata": {},
   "source": [
    "## Transformations\n",
    "\n",
    "### `map`"
   ]
  },
  {
   "cell_type": "code",
   "execution_count": null,
   "metadata": {
    "ExecuteTime": {
     "end_time": "2022-01-26T09:50:26.775706Z",
     "start_time": "2022-01-26T09:50:26.766162Z"
    }
   },
   "outputs": [],
   "source": [
    "rdd = sc.parallelize([2, 3, 4])\n",
    "rdd = rdd.map(lambda x: list(range(1, x)))"
   ]
  },
  {
   "cell_type": "code",
   "execution_count": null,
   "metadata": {
    "ExecuteTime": {
     "end_time": "2022-01-26T09:50:32.871701Z",
     "start_time": "2022-01-26T09:50:32.848329Z"
    }
   },
   "outputs": [],
   "source": [
    "rdd"
   ]
  },
  {
   "cell_type": "code",
   "execution_count": null,
   "metadata": {},
   "outputs": [],
   "source": [
    "(\n",
    "    sc.parallelize([2, 3, 4])\n",
    "      .map(lambda x: list(range(1, x)))\n",
    ")"
   ]
  },
  {
   "cell_type": "markdown",
   "metadata": {},
   "source": [
    "`map` is a *transformation*. It is *lazily* evaluated. Hence execution is delayed until an *action* is met in the DAG)."
   ]
  },
  {
   "cell_type": "code",
   "execution_count": null,
   "metadata": {
    "ExecuteTime": {
     "end_time": "2022-01-26T09:50:52.179698Z",
     "start_time": "2022-01-26T09:50:50.637422Z"
    }
   },
   "outputs": [],
   "source": [
    "rdd.collect()  # collect is an action "
   ]
  },
  {
   "cell_type": "code",
   "execution_count": null,
   "metadata": {},
   "outputs": [],
   "source": [
    "(\n",
    "    sc.parallelize([2, 3, 4])\n",
    "      .map(lambda x: list(range(1, x)))\n",
    "      .collect()\n",
    ")"
   ]
  },
  {
   "cell_type": "markdown",
   "metadata": {},
   "source": [
    "### Exercice: `map` with a method\n",
    "\n",
    "**Warning.** This example is a bad practice !!! Don't do this at home"
   ]
  },
  {
   "cell_type": "code",
   "execution_count": null,
   "metadata": {
    "ExecuteTime": {
     "end_time": "2022-01-26T09:53:08.722461Z",
     "start_time": "2022-01-26T09:53:08.718705Z"
    }
   },
   "outputs": [],
   "source": [
    "class TelephoneDB(object):\n",
    "    \n",
    "    def __init__(self):\n",
    "        self.tel = {'arthur': 1234, 'riad': 4567, 'anatole': 3615}\n",
    "   \n",
    "    def add_tel(self, name):\n",
    "        return name, self.tel[name]"
   ]
  },
  {
   "cell_type": "code",
   "execution_count": null,
   "metadata": {
    "ExecuteTime": {
     "end_time": "2022-01-26T09:53:09.073597Z",
     "start_time": "2022-01-26T09:53:08.885832Z"
    }
   },
   "outputs": [],
   "source": [
    "tel_db = TelephoneDB()\n",
    "names = ['arthur', 'riad']"
   ]
  },
  {
   "cell_type": "code",
   "execution_count": null,
   "metadata": {
    "ExecuteTime": {
     "end_time": "2022-01-26T09:53:09.073597Z",
     "start_time": "2022-01-26T09:53:08.885832Z"
    }
   },
   "outputs": [],
   "source": [
    "rdd = sc.parallelize(names).map(tel_db.add_tel).collect()\n",
    "rdd"
   ]
  },
  {
   "cell_type": "markdown",
   "metadata": {
    "ExecuteTime": {
     "end_time": "2020-02-03T15:24:26.624561Z",
     "start_time": "2020-02-03T15:24:26.617929Z"
    }
   },
   "source": [
    "- Replace the `tel` dictionary by a `defaultdict` with default number `999` \n",
    "- Use it on a `rdd` containing names as above including an unknown one, and try it"
   ]
  },
  {
   "cell_type": "code",
   "execution_count": null,
   "metadata": {
    "ExecuteTime": {
     "end_time": "2022-01-26T09:53:18.248482Z",
     "start_time": "2022-01-26T09:53:18.244348Z"
    }
   },
   "outputs": [],
   "source": [
    "from collections import defaultdict\n",
    "\n",
    "class TelephoneDefaultDB(object):\n",
    "    \n",
    "    def __init__(self):\n",
    "        self.tel = defaultdict(lambda: 999, {'arthur': 1234, 'riad': 4567, 'anatole': 3615})\n",
    "    \n",
    "    def add_tel(self, name):\n",
    "        return name, self.tel[name]\n",
    "    \n",
    "    def add_tel_rdd(self, rdd):  \n",
    "        return rdd.map(self.add_tel)"
   ]
  },
  {
   "cell_type": "code",
   "execution_count": null,
   "metadata": {
    "ExecuteTime": {
     "end_time": "2022-01-26T09:53:26.542121Z",
     "start_time": "2022-01-26T09:53:26.397964Z"
    },
    "scrolled": false
   },
   "outputs": [],
   "source": [
    "tel_db = TelephoneDefaultDB()\n",
    "names = ['riad', 'anatole', 'yiyang']\n",
    "rdd = sc.parallelize(names).map(tel_db.add_tel).collect()\n",
    "rdd"
   ]
  },
  {
   "cell_type": "markdown",
   "metadata": {},
   "source": [
    "**Warning**. Once again, this is a bad idea to pass *class methods* to spark's `map`.\n",
    "Since `add_tel` needs `self`, the whole object is serialized so that `spark` can use it.\n",
    "This breaks if the `tel` is large, or if it is not serializable."
   ]
  },
  {
   "cell_type": "markdown",
   "metadata": {
    "ExecuteTime": {
     "end_time": "2020-02-03T15:03:46.700487Z",
     "start_time": "2020-02-03T15:03:46.697154Z"
    }
   },
   "source": [
    "### `flatMap`"
   ]
  },
  {
   "cell_type": "code",
   "execution_count": null,
   "metadata": {
    "ExecuteTime": {
     "end_time": "2022-01-26T09:54:17.952337Z",
     "start_time": "2022-01-26T09:54:17.822486Z"
    }
   },
   "outputs": [],
   "source": [
    "rdd = sc.parallelize([2, 3, 4, 5])\n",
    "rdd.flatMap(lambda x: range(1, x)).collect()"
   ]
  },
  {
   "cell_type": "markdown",
   "metadata": {},
   "source": [
    "### `filter`"
   ]
  },
  {
   "cell_type": "code",
   "execution_count": null,
   "metadata": {
    "ExecuteTime": {
     "end_time": "2022-01-26T09:54:19.802984Z",
     "start_time": "2022-01-26T09:54:19.642499Z"
    }
   },
   "outputs": [],
   "source": [
    "rdd = sc.parallelize(range(10))\n",
    "rdd.filter(lambda x: x % 2 == 0).collect()"
   ]
  },
  {
   "cell_type": "markdown",
   "metadata": {},
   "source": [
    "### `distinct`"
   ]
  },
  {
   "cell_type": "code",
   "execution_count": null,
   "metadata": {
    "ExecuteTime": {
     "end_time": "2022-01-26T09:55:01.842894Z",
     "start_time": "2022-01-26T09:55:00.971479Z"
    }
   },
   "outputs": [],
   "source": [
    "rdd = sc.parallelize([1, 1, 4, 2, 1, 3, 3])\n",
    "rdd.distinct().collect()"
   ]
  },
  {
   "cell_type": "markdown",
   "metadata": {},
   "source": [
    "### \"Pseudo-set\" operations"
   ]
  },
  {
   "cell_type": "code",
   "execution_count": null,
   "metadata": {
    "ExecuteTime": {
     "end_time": "2022-01-26T09:57:28.799644Z",
     "start_time": "2022-01-26T09:57:28.539049Z"
    }
   },
   "outputs": [],
   "source": [
    "rdd1 = sc.parallelize(range(5))\n",
    "rdd2 = sc.parallelize(range(3, 9))\n",
    "rdd3 = rdd1.union(rdd2)\n",
    "rdd3.collect()"
   ]
  },
  {
   "cell_type": "code",
   "execution_count": null,
   "metadata": {
    "ExecuteTime": {
     "end_time": "2022-01-26T09:57:29.358513Z",
     "start_time": "2022-01-26T09:57:28.854902Z"
    }
   },
   "outputs": [],
   "source": [
    "rdd3.distinct().collect()"
   ]
  },
  {
   "cell_type": "code",
   "execution_count": null,
   "metadata": {
    "ExecuteTime": {
     "end_time": "2022-01-26T09:57:30.724296Z",
     "start_time": "2022-01-26T09:57:30.513790Z"
    },
    "scrolled": true
   },
   "outputs": [],
   "source": [
    "rdd1 = sc.parallelize([1, 2])\n",
    "rdd2 = sc.parallelize([\"a\", \"b\"])\n",
    "rdd1.cartesian(rdd2).collect()"
   ]
  },
  {
   "cell_type": "markdown",
   "metadata": {},
   "source": [
    "## Actions\n",
    "\n",
    "Well, `collect` is obviously an action..."
   ]
  },
  {
   "cell_type": "markdown",
   "metadata": {},
   "source": [
    "### `count`, `countByValue`"
   ]
  },
  {
   "cell_type": "code",
   "execution_count": null,
   "metadata": {
    "ExecuteTime": {
     "end_time": "2022-01-26T10:00:47.366718Z",
     "start_time": "2022-01-26T10:00:47.244554Z"
    }
   },
   "outputs": [],
   "source": [
    "rdd = sc.parallelize([1, 3, 1, 2, 2, 2])\n",
    "rdd.count()"
   ]
  },
  {
   "cell_type": "code",
   "execution_count": null,
   "metadata": {
    "ExecuteTime": {
     "end_time": "2022-01-26T10:00:47.784731Z",
     "start_time": "2022-01-26T10:00:47.670195Z"
    }
   },
   "outputs": [],
   "source": [
    "rdd.countByValue()"
   ]
  },
  {
   "cell_type": "code",
   "execution_count": null,
   "metadata": {},
   "outputs": [],
   "source": []
  },
  {
   "cell_type": "code",
   "execution_count": null,
   "metadata": {},
   "outputs": [],
   "source": [
    "u = np.int32((np.random.sample(100000) * 100000))  # 100000 random integers uniformly distributed on 0, ..., 100000\n",
    "\n",
    "p = (\n",
    "    sc.parallelize(u)\n",
    "    .countByValue()\n",
    ")\n",
    "\n",
    "q = sorted(p.items(), key = lambda x : x[1], reverse=True)\n",
    "\n",
    "q[0]\n",
    "\n",
    "# q[0], 1 + np.log(len(u))/ np.log(np.log(len(u))), len(q)"
   ]
  },
  {
   "cell_type": "markdown",
   "metadata": {},
   "source": [
    "- How many distinct values do you expect in `u` ?\n",
    "- How large is the largest value in $q$ ?"
   ]
  },
  {
   "cell_type": "markdown",
   "metadata": {},
   "source": [
    "### `take`, `takeOrdered`"
   ]
  },
  {
   "cell_type": "code",
   "execution_count": null,
   "metadata": {
    "ExecuteTime": {
     "end_time": "2022-01-26T10:01:12.133043Z",
     "start_time": "2022-01-26T10:01:12.123139Z"
    }
   },
   "outputs": [],
   "source": [
    "rdd = sc.parallelize([(3, 'a'), (1, 'b'), (2, 'd')])"
   ]
  },
  {
   "cell_type": "code",
   "execution_count": null,
   "metadata": {},
   "outputs": [],
   "source": [
    "(1, 'b') <=  (2, 'd') <= (3, 'a')"
   ]
  },
  {
   "cell_type": "code",
   "execution_count": null,
   "metadata": {
    "ExecuteTime": {
     "end_time": "2022-01-26T10:01:12.502110Z",
     "start_time": "2022-01-26T10:01:12.368857Z"
    }
   },
   "outputs": [],
   "source": [
    "rdd.takeOrdered(2)"
   ]
  },
  {
   "cell_type": "code",
   "execution_count": null,
   "metadata": {
    "ExecuteTime": {
     "end_time": "2022-01-26T10:01:41.658196Z",
     "start_time": "2022-01-26T10:01:41.561914Z"
    }
   },
   "outputs": [],
   "source": [
    "rdd.takeOrdered(2, key=lambda x: x[1])"
   ]
  },
  {
   "cell_type": "markdown",
   "metadata": {},
   "source": [
    "### `reduce`, `fold`"
   ]
  },
  {
   "cell_type": "code",
   "execution_count": null,
   "metadata": {
    "ExecuteTime": {
     "end_time": "2022-01-26T10:04:55.619063Z",
     "start_time": "2022-01-26T10:04:55.488243Z"
    }
   },
   "outputs": [],
   "source": [
    "rdd = sc.range(1, 4)\n",
    "rdd.reduce(lambda a, b: a + b)"
   ]
  },
  {
   "cell_type": "code",
   "execution_count": null,
   "metadata": {},
   "outputs": [],
   "source": [
    "rdd = sc.range(1, 4, numSlices=7)\n",
    "rdd.reduce(lambda a, b: a + b)"
   ]
  },
  {
   "cell_type": "code",
   "execution_count": null,
   "metadata": {},
   "outputs": [],
   "source": [
    "rdd = sc.parallelize(range(1,4), 3)\n",
    "rdd.reduce(lambda a, b: a + b)"
   ]
  },
  {
   "cell_type": "code",
   "execution_count": null,
   "metadata": {},
   "outputs": [],
   "source": [
    "( \n",
    "    sc.parallelize(range(1, 4), 2)\n",
    "      .fold(0, lambda a, b: a + b)\n",
    ")"
   ]
  },
  {
   "cell_type": "code",
   "execution_count": null,
   "metadata": {},
   "outputs": [],
   "source": [
    "( \n",
    "    sc.parallelize(range(1, 4), 1)\n",
    "      .fold(3, lambda a, b: a + b)\n",
    "),( \n",
    "    sc.parallelize(range(1, 4), 2)\n",
    "      .fold(2, lambda a, b: a + b)\n",
    ")"
   ]
  },
  {
   "cell_type": "code",
   "execution_count": null,
   "metadata": {
    "ExecuteTime": {
     "end_time": "2022-01-26T10:04:56.257006Z",
     "start_time": "2022-01-26T10:04:56.168743Z"
    }
   },
   "outputs": [],
   "source": [
    "rdd =  sc.parallelize(range(1, 4),3)\n",
    "rdd.fold(1, lambda a, b: a + b), rdd.getNumPartitions()"
   ]
  },
  {
   "cell_type": "code",
   "execution_count": null,
   "metadata": {},
   "outputs": [],
   "source": [
    "rdd =  sc.parallelize(range(1, 4),4)\n",
    "rdd.fold(1, lambda a, b: a + b), rdd.getNumPartitions()"
   ]
  },
  {
   "cell_type": "code",
   "execution_count": null,
   "metadata": {
    "ExecuteTime": {
     "end_time": "2022-01-26T10:06:13.531030Z",
     "start_time": "2022-01-26T10:06:13.468375Z"
    }
   },
   "outputs": [],
   "source": [
    "rdd = sc.parallelize([1, 2, 4], 2)\n",
    "rdd.fold(2, lambda a, b: a + b)"
   ]
  },
  {
   "cell_type": "code",
   "execution_count": null,
   "metadata": {
    "ExecuteTime": {
     "end_time": "2022-01-26T10:06:34.534202Z",
     "start_time": "2022-01-26T10:06:34.481600Z"
    }
   },
   "outputs": [],
   "source": [
    "rdd = sc.parallelize([1, 2, 4], 3)\n",
    "rdd.fold(2, lambda a, b: a + b)"
   ]
  },
  {
   "cell_type": "code",
   "execution_count": null,
   "metadata": {
    "ExecuteTime": {
     "end_time": "2022-01-26T10:07:09.860863Z",
     "start_time": "2022-01-26T10:07:09.855285Z"
    }
   },
   "outputs": [],
   "source": [
    "rdd.getNumPartitions()"
   ]
  },
  {
   "cell_type": "markdown",
   "metadata": {},
   "source": [
    "### `aggregate`"
   ]
  },
  {
   "cell_type": "code",
   "execution_count": null,
   "metadata": {
    "ExecuteTime": {
     "end_time": "2022-01-26T10:10:45.189587Z",
     "start_time": "2022-01-26T10:10:45.103199Z"
    }
   },
   "outputs": [],
   "source": [
    "seqOp = lambda x, y: (x[0] + y, x[1] + 1)\n",
    "combOp = lambda x, y: (x[0] + y[0], x[1] + y[1])\n",
    "\n",
    "rdd = sc.parallelize([1, 2, 3, 4], 8)\n",
    "rdd.aggregate((0, 0), seqOp, combOp), rdd.getNumPartitions()"
   ]
  },
  {
   "cell_type": "code",
   "execution_count": null,
   "metadata": {},
   "outputs": [],
   "source": [
    "op = lambda x, y: x+y\n",
    "rdd = sc.parallelize([1, 2, 3, 4], 4)\n",
    "rdd.aggregate(0, op, op), rdd.getNumPartitions()"
   ]
  },
  {
   "cell_type": "markdown",
   "metadata": {},
   "source": [
    "### Exercice: sum of powers with `aggregate`\n",
    "\n",
    "- Using `aggregate`, compute the sum, the sum of squares $x^2$ and the sum of $x^3$ for \n",
    "$x \\in \\{1, \\ldots, 10 \\}$.\n",
    "- Check your computations using `numpy`"
   ]
  },
  {
   "cell_type": "code",
   "execution_count": null,
   "metadata": {
    "ExecuteTime": {
     "end_time": "2022-01-26T10:12:45.646275Z",
     "start_time": "2022-01-26T10:12:45.642587Z"
    }
   },
   "outputs": [],
   "source": [
    "seqOp = lambda x, y: (x[0] + y, x[1] + y ** 2, x[2] + y ** 3)"
   ]
  },
  {
   "cell_type": "code",
   "execution_count": null,
   "metadata": {
    "ExecuteTime": {
     "end_time": "2022-01-26T10:12:46.202729Z",
     "start_time": "2022-01-26T10:12:46.198959Z"
    }
   },
   "outputs": [],
   "source": [
    "combOp = lambda x, y: (x[0] + y[0], x[1] + y[1], x[2] + y[2])"
   ]
  },
  {
   "cell_type": "code",
   "execution_count": null,
   "metadata": {
    "ExecuteTime": {
     "end_time": "2022-01-26T10:12:46.809504Z",
     "start_time": "2022-01-26T10:12:46.691691Z"
    }
   },
   "outputs": [],
   "source": [
    "sc.range(1, 11).aggregate((0, 0, 0), seqOp, combOp)"
   ]
  },
  {
   "cell_type": "code",
   "execution_count": null,
   "metadata": {
    "ExecuteTime": {
     "end_time": "2022-01-26T10:13:08.815852Z",
     "start_time": "2022-01-26T10:13:08.809493Z"
    }
   },
   "outputs": [],
   "source": [
    "import numpy as np\n",
    "\n",
    "x = np.arange(1, 11)\n",
    "x"
   ]
  },
  {
   "cell_type": "code",
   "execution_count": null,
   "metadata": {
    "ExecuteTime": {
     "end_time": "2022-01-26T10:13:09.313575Z",
     "start_time": "2022-01-26T10:13:09.308073Z"
    },
    "scrolled": true
   },
   "outputs": [],
   "source": [
    "x.sum(), (x**2).sum(), (x**3).sum(), x.cumsum()"
   ]
  },
  {
   "cell_type": "markdown",
   "metadata": {},
   "source": [
    "### Computing an empirical variance with `aggregate`\n",
    "\n",
    "Assume a sample is stored as a RDD. Using `aggregate`, compute the sample variance $\\frac{1}{n}\\sum_{i=1}^n (x_i - \\overline{X}_n)^2$ where $\\overline{X}_n = \\frac{1}{n} \\sum_{i=1}^n x_i$ "
   ]
  },
  {
   "cell_type": "markdown",
   "metadata": {},
   "source": [
    "# `PairRDD`"
   ]
  },
  {
   "cell_type": "code",
   "execution_count": null,
   "metadata": {
    "ExecuteTime": {
     "end_time": "2022-01-26T10:32:47.309881Z",
     "start_time": "2022-01-26T10:32:47.145371Z"
    }
   },
   "outputs": [],
   "source": [
    "rdd = sc.parallelize([[1, \"a\", 7], [2, \"b\", 13], [2, \"c\", 17]])\n",
    "\n",
    "rdd.collect()  # not yet "
   ]
  },
  {
   "cell_type": "code",
   "execution_count": null,
   "metadata": {
    "ExecuteTime": {
     "end_time": "2022-01-26T10:32:47.309881Z",
     "start_time": "2022-01-26T10:32:47.145371Z"
    },
    "scrolled": false
   },
   "outputs": [],
   "source": [
    "rdd = rdd.map(lambda x: (x[0], x[1:]))\n",
    "\n",
    "rdd.collect()  # done "
   ]
  },
  {
   "cell_type": "markdown",
   "metadata": {
    "ExecuteTime": {
     "end_time": "2020-02-03T16:55:49.613692Z",
     "start_time": "2020-02-03T16:55:49.608167Z"
    }
   },
   "source": [
    "## Transformations\n",
    "\n",
    "### `keys`, `values`"
   ]
  },
  {
   "cell_type": "code",
   "execution_count": null,
   "metadata": {
    "ExecuteTime": {
     "end_time": "2022-01-26T10:33:19.840293Z",
     "start_time": "2022-01-26T10:33:19.737836Z"
    },
    "scrolled": true
   },
   "outputs": [],
   "source": [
    "rdd.keys().collect()"
   ]
  },
  {
   "cell_type": "code",
   "execution_count": null,
   "metadata": {
    "ExecuteTime": {
     "end_time": "2022-01-26T10:33:21.985283Z",
     "start_time": "2022-01-26T10:33:21.884455Z"
    },
    "scrolled": true
   },
   "outputs": [],
   "source": [
    "rdd.values().collect()"
   ]
  },
  {
   "cell_type": "markdown",
   "metadata": {
    "ExecuteTime": {
     "end_time": "2020-02-03T17:19:46.849104Z",
     "start_time": "2020-02-03T17:19:46.843413Z"
    }
   },
   "source": [
    "**Warning**. All elements must be tuples with two elements (the key and the value)"
   ]
  },
  {
   "cell_type": "code",
   "execution_count": null,
   "metadata": {
    "ExecuteTime": {
     "end_time": "2022-01-26T10:41:19.297283Z",
     "start_time": "2022-01-26T10:41:19.170242Z"
    }
   },
   "outputs": [],
   "source": [
    "rdd = sc.parallelize([[1, \"a\", 7], [2, \"b\", 13], [2, \"c\", 17]])\n",
    "rdd.keys().collect()"
   ]
  },
  {
   "cell_type": "code",
   "execution_count": null,
   "metadata": {
    "ExecuteTime": {
     "end_time": "2022-01-26T10:41:19.869715Z",
     "start_time": "2022-01-26T10:41:19.771203Z"
    }
   },
   "outputs": [],
   "source": [
    "rdd.values().collect()"
   ]
  },
  {
   "cell_type": "markdown",
   "metadata": {},
   "source": [
    "The values are **not** what we expected wrong... so we **must** do"
   ]
  },
  {
   "cell_type": "code",
   "execution_count": null,
   "metadata": {
    "ExecuteTime": {
     "end_time": "2022-01-26T10:41:21.144124Z",
     "start_time": "2022-01-26T10:41:21.029252Z"
    }
   },
   "outputs": [],
   "source": [
    "rdd = ( sc.parallelize([[1, \"a\", 7], [2, \"b\", 13], [2, \"c\", 17]])\n",
    "          .map(lambda x: (x[0], x[1:]))\n",
    "      )\n",
    "rdd.keys().collect()"
   ]
  },
  {
   "cell_type": "code",
   "execution_count": null,
   "metadata": {
    "ExecuteTime": {
     "end_time": "2022-01-26T10:41:21.296200Z",
     "start_time": "2022-01-26T10:41:21.184436Z"
    }
   },
   "outputs": [],
   "source": [
    "rdd.values().collect()"
   ]
  },
  {
   "cell_type": "markdown",
   "metadata": {},
   "source": [
    "Now the values are correct. "
   ]
  },
  {
   "cell_type": "markdown",
   "metadata": {},
   "source": [
    "### `mapValues`, `flatMapValues`"
   ]
  },
  {
   "cell_type": "code",
   "execution_count": null,
   "metadata": {
    "ExecuteTime": {
     "end_time": "2022-01-26T10:41:22.989789Z",
     "start_time": "2022-01-26T10:41:22.894772Z"
    }
   },
   "outputs": [],
   "source": [
    "rdd = sc.parallelize([(\"a\", \"x y z\"), (\"b\", \"p r\")])\n",
    "\n",
    "rdd.mapValues(lambda v: v.split(' ')).collect(), rdd.collect()"
   ]
  },
  {
   "cell_type": "code",
   "execution_count": null,
   "metadata": {
    "ExecuteTime": {
     "end_time": "2020-02-03T17:29:19.958821Z",
     "start_time": "2020-02-03T17:29:19.874139Z"
    }
   },
   "outputs": [],
   "source": []
  },
  {
   "cell_type": "code",
   "execution_count": null,
   "metadata": {
    "ExecuteTime": {
     "end_time": "2022-01-26T10:41:23.311835Z",
     "start_time": "2022-01-26T10:41:23.217639Z"
    },
    "scrolled": true
   },
   "outputs": [],
   "source": [
    "rdd.flatMapValues(lambda v: v.split(' ')).collect()"
   ]
  },
  {
   "cell_type": "markdown",
   "metadata": {},
   "source": [
    "### `groupByKey`"
   ]
  },
  {
   "cell_type": "code",
   "execution_count": null,
   "metadata": {
    "ExecuteTime": {
     "end_time": "2022-01-26T10:41:23.830837Z",
     "start_time": "2022-01-26T10:41:23.575739Z"
    }
   },
   "outputs": [],
   "source": [
    "rdd = sc.parallelize([(\"a\", 1), (\"b\", 1), (\"a\", 1), (\"b\", 3), (\"c\", 42)])\n",
    "( \n",
    "    rdd.groupByKey()\n",
    "       .mapValues(list)\n",
    "       .collect()\n",
    ")"
   ]
  },
  {
   "cell_type": "code",
   "execution_count": null,
   "metadata": {},
   "outputs": [],
   "source": [
    "rdd.groupByKey().collect()"
   ]
  },
  {
   "cell_type": "markdown",
   "metadata": {},
   "source": [
    "### `reduceByKey`"
   ]
  },
  {
   "cell_type": "code",
   "execution_count": null,
   "metadata": {
    "ExecuteTime": {
     "end_time": "2022-01-26T10:41:24.139532Z",
     "start_time": "2022-01-26T10:41:23.921367Z"
    }
   },
   "outputs": [],
   "source": [
    "rdd = sc.parallelize([(\"a\", 1), (\"b\", 1), (\"a\", 1)])\n",
    "rdd.reduceByKey(lambda a, b: a + b).collect()"
   ]
  },
  {
   "cell_type": "markdown",
   "metadata": {},
   "source": [
    "### `combineByKey`"
   ]
  },
  {
   "cell_type": "code",
   "execution_count": null,
   "metadata": {
    "ExecuteTime": {
     "end_time": "2022-01-26T10:41:24.455934Z",
     "start_time": "2022-01-26T10:41:24.224593Z"
    }
   },
   "outputs": [],
   "source": [
    "rdd = sc.parallelize([('a', 1), ('b', 2), ('a', 13)])\n",
    "\n",
    "def add(a, b): \n",
    "    return a + str(b)\n",
    "\n",
    "rdd.combineByKey(str, add, add).collect()"
   ]
  },
  {
   "cell_type": "markdown",
   "metadata": {},
   "source": [
    "### `join`, `rightOuterJoin`, `leftOuterJoin`"
   ]
  },
  {
   "cell_type": "code",
   "execution_count": null,
   "metadata": {
    "ExecuteTime": {
     "end_time": "2022-01-26T10:46:47.184819Z",
     "start_time": "2022-01-26T10:46:47.176731Z"
    }
   },
   "outputs": [],
   "source": [
    "employees = sc.parallelize([\n",
    "    (31, \"Rafferty\"),\n",
    "    (33, \"Jones\"),\n",
    "    (33, \"Heisenberg\"),\n",
    "    (34, \"Robinson\"),\n",
    "    (34, \"Smith\"),\n",
    "    (None, \"Williams\")\n",
    "])"
   ]
  },
  {
   "cell_type": "code",
   "execution_count": null,
   "metadata": {
    "ExecuteTime": {
     "end_time": "2022-01-26T10:46:47.380011Z",
     "start_time": "2022-01-26T10:46:47.371802Z"
    }
   },
   "outputs": [],
   "source": [
    "departments = sc.parallelize([\n",
    "    (31, \"Sales\"),\n",
    "    (33, \"Engineering\"),\n",
    "    (34, \"Clerical\"),\n",
    "    (35, \"Marketing\")\n",
    "])"
   ]
  },
  {
   "cell_type": "code",
   "execution_count": null,
   "metadata": {
    "ExecuteTime": {
     "end_time": "2022-01-26T10:46:49.996596Z",
     "start_time": "2022-01-26T10:46:49.194948Z"
    },
    "scrolled": true
   },
   "outputs": [],
   "source": [
    "employees.join(departments).sortByKey().collect()"
   ]
  },
  {
   "cell_type": "code",
   "execution_count": null,
   "metadata": {
    "ExecuteTime": {
     "end_time": "2022-01-26T10:46:01.966800Z",
     "start_time": "2022-01-26T10:46:01.121856Z"
    },
    "scrolled": false
   },
   "outputs": [],
   "source": [
    "employees.rightOuterJoin(departments).sortByKey().collect()"
   ]
  },
  {
   "cell_type": "code",
   "execution_count": null,
   "metadata": {
    "ExecuteTime": {
     "end_time": "2022-01-26T10:46:02.369216Z",
     "start_time": "2022-01-26T10:46:01.970100Z"
    }
   },
   "outputs": [],
   "source": [
    "employees.leftOuterJoin(departments).collect()"
   ]
  },
  {
   "cell_type": "markdown",
   "metadata": {},
   "source": [
    "## Actions"
   ]
  },
  {
   "cell_type": "code",
   "execution_count": null,
   "metadata": {
    "ExecuteTime": {
     "end_time": "2022-01-26T10:47:05.544827Z",
     "start_time": "2022-01-26T10:47:05.452900Z"
    }
   },
   "outputs": [],
   "source": [
    "employees.countByKey()"
   ]
  },
  {
   "cell_type": "code",
   "execution_count": null,
   "metadata": {
    "ExecuteTime": {
     "end_time": "2022-01-26T10:47:06.217008Z",
     "start_time": "2022-01-26T10:47:06.120690Z"
    },
    "scrolled": true
   },
   "outputs": [],
   "source": [
    "employees.lookup(33)"
   ]
  },
  {
   "cell_type": "code",
   "execution_count": null,
   "metadata": {
    "ExecuteTime": {
     "end_time": "2022-01-26T10:47:29.274325Z",
     "start_time": "2022-01-26T10:47:29.191957Z"
    },
    "scrolled": false
   },
   "outputs": [],
   "source": [
    "employees.lookup(None)"
   ]
  },
  {
   "cell_type": "code",
   "execution_count": null,
   "metadata": {
    "ExecuteTime": {
     "end_time": "2022-01-26T10:47:33.540110Z",
     "start_time": "2022-01-26T10:47:33.511434Z"
    }
   },
   "outputs": [],
   "source": [
    "employees.collectAsMap()"
   ]
  },
  {
   "cell_type": "markdown",
   "metadata": {},
   "source": [
    "## References\n",
    "\n",
    "[Spark Core reference](https://spark.apache.org/docs/3.3.1/api/python/reference/pyspark.html)"
   ]
  },
  {
   "cell_type": "code",
   "execution_count": null,
   "metadata": {},
   "outputs": [],
   "source": []
  }
 ],
 "metadata": {
  "kernelspec": {
   "display_name": "Python 3 (ipykernel)",
   "language": "python",
   "name": "python3"
  },
  "language_info": {
   "codemirror_mode": {
    "name": "ipython",
    "version": 3
   },
   "file_extension": ".py",
   "mimetype": "text/x-python",
   "name": "python",
   "nbconvert_exporter": "python",
   "pygments_lexer": "ipython3",
   "version": "3.9.13"
  },
  "toc": {
   "base_numbering": 1,
   "nav_menu": {},
   "number_sections": true,
   "sideBar": true,
   "skip_h1_title": false,
   "title_cell": "Table of Contents",
   "title_sidebar": "Contents",
   "toc_cell": false,
   "toc_position": {
    "height": "calc(100% - 180px)",
    "left": "10px",
    "top": "150px",
    "width": "368.542px"
   },
   "toc_section_display": true,
   "toc_window_display": true
  }
 },
 "nbformat": 4,
 "nbformat_minor": 2
}
